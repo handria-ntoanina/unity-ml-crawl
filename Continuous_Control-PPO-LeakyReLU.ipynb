{
 "cells": [
  {
   "cell_type": "markdown",
   "metadata": {},
   "source": [
    "## Import the necessary library\n"
   ]
  },
  {
   "cell_type": "code",
   "execution_count": null,
   "metadata": {},
   "outputs": [],
   "source": [
    "import torch\n",
    "import numpy as np\n",
    "from collections import deque\n",
    "import matplotlib.pyplot as plt\n",
    "from unityagents import UnityEnvironment\n",
    "\n",
    "%matplotlib inline\n",
    "%load_ext autoreload\n",
    "%autoreload 2"
   ]
  },
  {
   "cell_type": "code",
   "execution_count": null,
   "metadata": {
    "scrolled": false
   },
   "outputs": [],
   "source": [
    "env = UnityEnvironment(file_name='./Crawler_Windows_x86_64/Crawler.exe')\n",
    "# get the default brain\n",
    "brain_name = env.brain_names[0]\n",
    "brain = env.brains[brain_name]\n",
    "# reset the environment\n",
    "env_info = env.reset(train_mode=True)[brain_name]"
   ]
  },
  {
   "cell_type": "markdown",
   "metadata": {},
   "source": [
    "### Method to plot the progress of the agent's score"
   ]
  },
  {
   "cell_type": "code",
   "execution_count": 3,
   "metadata": {},
   "outputs": [],
   "source": [
    "def plot_result(scores):\n",
    "    # plot the scores\n",
    "    fig = plt.figure()\n",
    "    ax = fig.add_subplot(111)\n",
    "    plt.plot(np.arange(len(scores)), scores)\n",
    "    plt.ylabel('Score')\n",
    "    plt.xlabel('Episode #')\n",
    "    plt.show()"
   ]
  },
  {
   "cell_type": "markdown",
   "metadata": {},
   "source": [
    "## Validation method\n",
    "The noise has to be deactivated before the validation. This method is being used to assess the performance of the agent after every episode of training"
   ]
  },
  {
   "cell_type": "code",
   "execution_count": 4,
   "metadata": {},
   "outputs": [],
   "source": [
    "def validate(agent, max_t, train_mode=True):\n",
    "    env_info = env.reset(train_mode=train_mode)[brain_name]\n",
    "    states = env_info.vector_observations\n",
    "    scores_one_episode = np.zeros(states.shape[0])\n",
    "    for t in range(max_t):\n",
    "        actions, _, _ = agent.act(states)                        # select an action (for each agent)\n",
    "        env_info = env.step(np.clip(actions, -1, 1))[brain_name]   # send all actions to the environment\n",
    "        next_states = env_info.vector_observations               # get next state (for each agent)\n",
    "        rewards = env_info.rewards                               # get reward (for each agent)\n",
    "        dones = env_info.local_done                              # see if episode finished\n",
    "        scores_one_episode += env_info.rewards                   # update the score (for each agent)\n",
    "        states = next_states                                     # roll over states to next time step\n",
    "        if np.any(dones):                                        # exit loop if episode finished\n",
    "            break\n",
    "    return scores_one_episode"
   ]
  },
  {
   "cell_type": "markdown",
   "metadata": {},
   "source": [
    "## Training method\n",
    "The main loop of the training can be found here"
   ]
  },
  {
   "cell_type": "code",
   "execution_count": 5,
   "metadata": {},
   "outputs": [],
   "source": [
    "def train(agent, n_episodes=500, max_t=500, train_mode=True):\n",
    "    scores = []                        # list containing scores from each episode\n",
    "    scores_window = deque(maxlen=100)  # last 100 scores\n",
    "    for i_episode in range(1, n_episodes+1):\n",
    "        env_info = env.reset(train_mode=train_mode)[brain_name]\n",
    "        states = env_info.vector_observations\n",
    "        scores_one_episode = np.zeros(states.shape[0])\n",
    "        trajectories_states, trajectories_actions, trajectories_log_probs, trajectories_values, \\\n",
    "        trajectories_rewards, trajectories_next_states, trajectories_dones = [],[],[],[],[],[],[]\n",
    "        \n",
    "        for t in range(max_t):\n",
    "            actions, log_probs, values = agent.act(states)\n",
    "            env_info = env.step(np.clip(actions, -1, 1))[brain_name] # send all actions to the environment\n",
    "            next_states = env_info.vector_observations               # get next state (for each agent)\n",
    "            rewards = env_info.rewards                               # get reward (for each agent)\n",
    "            dones = env_info.local_done                              # see if episode finished\n",
    "            scores_one_episode += rewards\n",
    "            trajectories_states.append(states)\n",
    "            trajectories_actions.append(actions)\n",
    "            trajectories_log_probs.append(log_probs)\n",
    "            trajectories_values.append(values)\n",
    "            trajectories_rewards.append(rewards)\n",
    "            trajectories_next_states.append(next_states)\n",
    "            trajectories_dones.append(dones)\n",
    "            states = next_states                                     # roll over states to next time step\n",
    "            if np.any(dones):                                        # exit loop if episode finished\n",
    "                break\n",
    "#                 env_info = env.reset(train_mode=train_mode)[brain_name]\n",
    "#                 states = env_info.vector_observations \n",
    "  \n",
    "        agent.learn(trajectories_states, trajectories_actions, trajectories_log_probs, trajectories_values, \n",
    "        trajectories_rewards, trajectories_next_states, trajectories_dones)\n",
    "        score = np.average(scores_one_episode)\n",
    "        scores.append(score)\n",
    "        scores_window.append(score)\n",
    "        mean_100 = np.mean(scores_window)\n",
    "        if i_episode % 50 == 0:\n",
    "            print('\\rEpisode {}\\tAverage Score: {:.3f}\\tMin Score: {:.3f}\\tMax Score: {:.3f}'.format(i_episode, mean_100, \n",
    "                                                                                                     np.min(np.array(scores_window)[-50:]),\n",
    "                                                                                                     np.max(np.array(scores_window)[-50:])))\n",
    "            agent.save(\"ppo_\" + str(i_episode) + \".pth\")\n",
    "        if len(scores_window) >= 100 and np.mean(scores_window)>=2000:\n",
    "            print('\\nEnvironment solved in {:d} episodes!\\tAverage Score: {:.3f}'.format(i_episode, mean_100))\n",
    "            agent.save(\"ppo_final.pth\")\n",
    "            break\n",
    "    return scores"
   ]
  },
  {
   "cell_type": "code",
   "execution_count": null,
   "metadata": {
    "scrolled": false
   },
   "outputs": [
    {
     "name": "stdout",
     "output_type": "stream",
     "text": [
      "Episode 50\tAverage Score: 875.687\tMin Score: 14.772\tMax Score: 2343.831\n",
      "Episode 100\tAverage Score: 863.873\tMin Score: 55.050\tMax Score: 2281.855\n",
      "Episode 150\tAverage Score: 811.214\tMin Score: 40.129\tMax Score: 2289.414\n",
      "Episode 200\tAverage Score: 792.372\tMin Score: 30.925\tMax Score: 2362.579\n"
     ]
    }
   ],
   "source": [
    "from agents.ppo import PPO\n",
    "from agents.model_ppo import Gaussian\n",
    "import random\n",
    "import torch.nn.functional as F\n",
    "\n",
    "# device = torch.device(\"cuda:0\" if torch.cuda.is_available() else \"cpu\")\n",
    "device = \"cpu\"\n",
    "states = env_info.vector_observations\n",
    "action_size = brain.vector_action_space_size\n",
    "network = Gaussian(states.shape[1], action_size, activation=F.leaky_relu).to(device)\n",
    "agent = PPO(network, device,\n",
    "                 LR=1e-4,\n",
    "                 GRADIENT_CLIP=5, \n",
    "                 EPOCHS=3, \n",
    "                 BATCH_SIZE=128,\n",
    "                GAMMA=0.99,\n",
    "                GAE_TAU=0.99,\n",
    "                CLIP_EPSILON=0.05)\n",
    "# agent.save(\"random.pth\")\n",
    "agent.load(\"weights\\\\112x112(9)\\\\ppo_final.pth\")\n",
    "scores = train(agent, n_episodes=60000, max_t=1010, train_mode=True)\n",
    "plot_result(scores)"
   ]
  },
  {
   "cell_type": "markdown",
   "metadata": {},
   "source": [
    "## Continue the training"
   ]
  },
  {
   "cell_type": "code",
   "execution_count": null,
   "metadata": {},
   "outputs": [],
   "source": [
    "agent.load(\"weights\\ppo_2450.pth\")\n",
    "scores = train(agent, n_episodes=60000, max_t=1010, train_mode=True)\n",
    "plot_result(scores)"
   ]
  },
  {
   "cell_type": "code",
   "execution_count": null,
   "metadata": {},
   "outputs": [],
   "source": [
    "a = torch.tensor(np.ones((1,12)))\n",
    "print(a.shape)\n",
    "print(a.squeeze().shape)"
   ]
  },
  {
   "cell_type": "markdown",
   "metadata": {},
   "source": [
    "## View the trained agent\n",
    "Use the cell below to load and view a trained agent"
   ]
  },
  {
   "cell_type": "code",
   "execution_count": null,
   "metadata": {},
   "outputs": [],
   "source": [
    "def getRandomAgent():\n",
    "    states = env_info.vector_observations\n",
    "    action_size = brain.vector_action_space_size\n",
    "    network = Gaussian(states.shape[1], action_size, activation=F.leaky_relu).to(device)\n",
    "    agent = PPO(network, device,\n",
    "                     LR=3e-4,\n",
    "                     GRADIENT_CLIP=5, \n",
    "                     EPOCHS=4, \n",
    "                     BATCH_SIZE=128,\n",
    "                    GAMMA=0.99,\n",
    "                    GAE_TAU=0.99,\n",
    "                    CLIP_EPSILON=0.1)\n",
    "    agent.save(\"random.pth\")\n",
    "    return agent"
   ]
  },
  {
   "cell_type": "code",
   "execution_count": null,
   "metadata": {},
   "outputs": [],
   "source": [
    "randomAgent = getRandomAgent()\n",
    "for i in range(10):\n",
    "    scores = validate(agent, 1000, False)\n",
    "    print(np.mean(scores))"
   ]
  },
  {
   "cell_type": "code",
   "execution_count": 13,
   "metadata": {},
   "outputs": [
    {
     "name": "stdout",
     "output_type": "stream",
     "text": [
      "583.8811620207658\n"
     ]
    }
   ],
   "source": [
    "agent.load(\"weights\\\\112x112(9)\\\\ppo_final.pth\")\n",
    "for i in range(1):\n",
    "    scores = validate(agent, 1000, False)\n",
    "    print(np.mean(scores))"
   ]
  },
  {
   "cell_type": "code",
   "execution_count": null,
   "metadata": {},
   "outputs": [],
   "source": []
  }
 ],
 "metadata": {
  "kernelspec": {
   "display_name": "drlnd",
   "language": "python",
   "name": "drlnd"
  },
  "language_info": {
   "codemirror_mode": {
    "name": "ipython",
    "version": 3
   },
   "file_extension": ".py",
   "mimetype": "text/x-python",
   "name": "python",
   "nbconvert_exporter": "python",
   "pygments_lexer": "ipython3",
   "version": "3.6.6"
  }
 },
 "nbformat": 4,
 "nbformat_minor": 2
}
