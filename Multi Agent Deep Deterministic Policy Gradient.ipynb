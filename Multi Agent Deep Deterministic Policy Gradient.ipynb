{
 "cells": [
  {
   "cell_type": "markdown",
   "metadata": {},
   "source": [
    "* Trying to implement Prioritezed Experience according to explanation from Thomas Simonini from [here](https://medium.freecodecamp.org/improvements-in-deep-q-learning-dueling-double-dqn-prioritized-experience-replay-and-fixed-58b130cc5682)\n",
    "* https://github.com/google/dopamine/blob/master/dopamine/agents/dqn/dqn_agent.py\n",
    "* https://github.com/rlcode/per/blob/master/cartpole_per.py"
   ]
  },
  {
   "cell_type": "markdown",
   "metadata": {},
   "source": [
    "## Import the necessary library"
   ]
  },
  {
   "cell_type": "code",
   "execution_count": 1,
   "metadata": {},
   "outputs": [],
   "source": [
    "import torch\n",
    "import numpy as np\n",
    "from collections import deque\n",
    "import matplotlib.pyplot as plt\n",
    "from unityagents import UnityEnvironment\n",
    "from agents_maddpg.utils import OUNoise\n",
    "\n",
    "%matplotlib inline\n",
    "%load_ext autoreload\n",
    "%autoreload 2"
   ]
  },
  {
   "cell_type": "code",
   "execution_count": 2,
   "metadata": {
    "scrolled": false
   },
   "outputs": [
    {
     "name": "stderr",
     "output_type": "stream",
     "text": [
      "INFO:unityagents:\n",
      "'Academy' started successfully!\n",
      "Unity Academy name: Academy\n",
      "        Number of Brains: 1\n",
      "        Number of External Brains : 1\n",
      "        Lesson number : 0\n",
      "        Reset Parameters :\n",
      "\t\t\n",
      "Unity brain name: CrawlerBrain\n",
      "        Number of Visual Observations (per agent): 0\n",
      "        Vector Observation space type: continuous\n",
      "        Vector Observation space size (per agent): 129\n",
      "        Number of stacked Vector Observation: 1\n",
      "        Vector Action space type: continuous\n",
      "        Vector Action space size (per agent): 20\n",
      "        Vector Action descriptions: , , , , , , , , , , , , , , , , , , , \n"
     ]
    }
   ],
   "source": [
    "env = UnityEnvironment(file_name=\"./Crawler_Windows_x86_64/Crawler.exe\")\n",
    "# get the default brain\n",
    "brain_name = env.brain_names[0]\n",
    "brain = env.brains[brain_name]\n",
    "\n",
    "env_info = env.reset(train_mode=False)[brain_name]\n",
    "num_agents = len(env_info.agents)\n",
    "states = env_info.vector_observations\n",
    "action_size = brain.vector_action_space_size\n",
    "state_size = states.shape[1]"
   ]
  },
  {
   "cell_type": "markdown",
   "metadata": {},
   "source": [
    "## Method to plot the progress of the agent's score"
   ]
  },
  {
   "cell_type": "code",
   "execution_count": 3,
   "metadata": {},
   "outputs": [],
   "source": [
    "def plot_result(scores):\n",
    "    # plot the scores\n",
    "    fig = plt.figure()\n",
    "    ax = fig.add_subplot(111)\n",
    "    plt.plot(np.arange(len(scores)), scores)\n",
    "    plt.ylabel('Score')\n",
    "    plt.xlabel('Episode #')\n",
    "    plt.show()"
   ]
  },
  {
   "cell_type": "code",
   "execution_count": 4,
   "metadata": {},
   "outputs": [],
   "source": [
    "from agents_maddpg.storage import Storage\n",
    "def train(agent, scores=[], n_episodes=500, noise = 1, noise_reduction=0.9999, train_mode=True):\n",
    "    scores_window = deque(maxlen=100)  # last 100 scores\n",
    "    for s in scores[-100:]:\n",
    "        scores_window.append(s)\n",
    "        \n",
    "    for i_episode in range(1, n_episodes+1):\n",
    "        env_info = env.reset(train_mode=train_mode)[brain_name]\n",
    "        states = env_info.vector_observations\n",
    "        scores_one_episode = np.zeros(num_agents)\n",
    "        agent.reset()\n",
    "        while True:\n",
    "            actions = agent.act(states, noise=noise)              # select an action (for each agent)\n",
    "                \n",
    "            env_info = env.step(np.clip(actions, -1, 1))[brain_name]              # send all actions to the environment\n",
    "            next_states = env_info.vector_observations                            # get next state (for each agent)\n",
    "            rewards = env_info.rewards                                            # get reward (for each agent)\n",
    "            # lets try to promote cooperation\n",
    "            dones = env_info.local_done                                           # see if episode finished\n",
    "            agent.step(states, actions, rewards, next_states, dones)              # learn\n",
    "            states = next_states                                                  # roll over states to next time step\n",
    "            \n",
    "            \n",
    "            scores_one_episode += rewards\n",
    "            if np.any(dones):                                                     # exit loop if episode finished\n",
    "                break\n",
    "                \n",
    "        noise = max(noise * noise_reduction, 0.01)        \n",
    "        score = np.average(scores_one_episode)\n",
    "        scores.append(score)\n",
    "        scores_window.append(score)\n",
    "        mean_100 = np.mean(scores_window)\n",
    "        \n",
    "        if i_episode % 50 == 0:\n",
    "            print('\\rEpisode {}\\tAverage Score: {:.3f}\\tMin Score: {:.3f}\\tMax Score: {:.3f}\\tNoise: {:.3f}'.\n",
    "                  format(i_episode, mean_100, \n",
    "                             np.min(np.array(scores_window)[-50:]),\n",
    "                             np.max(np.array(scores_window)[-50:]),\n",
    "                        noise))\n",
    "            Storage.save(\"weights\\MADDPG\\eps_{}_avg_{}.pth\".format(i_episode, mean_100), scores, agent=agent)\n",
    "            \n",
    "        if len(scores_window) >= 100 and np.mean(scores_window)>=2000:\n",
    "            print('\\nEnvironment solved in {:d} episodes!\\tAverage Score: {:.3f}'.format(i_episode, mean_100))\n",
    "            Storage.save(\"weights\\MADDPG\\final.pth\", scores, agent=agent)\n",
    "            break\n",
    "            \n",
    "    return scores"
   ]
  },
  {
   "cell_type": "markdown",
   "metadata": {},
   "source": [
    "## Prepare the agent\n",
    "* One instance of the memory ReplayBuffer is built here\n",
    "* The MADDPG is one version of the DDPG that use one local actor/critic network and one target actor/critic network that are being used by all agents.\n",
    "* The hyperparameters are set and the agent is initialized\n",
    "* Several instances of the noise generator are created and attached to the agent"
   ]
  },
  {
   "cell_type": "code",
   "execution_count": 5,
   "metadata": {
    "scrolled": true
   },
   "outputs": [],
   "source": [
    "from agents_maddpg.utils import ReplayBuffer, SimpleNoise\n",
    "from agents_maddpg.storage import Storage\n",
    "from agents_maddpg.model import ActorCritic\n",
    "import agents_maddpg\n",
    "import torch.nn.functional as F\n",
    "import random\n",
    "\n",
    "# device = torch.device(\"cuda:0\" if torch.cuda.is_available() else \"cpu\")\n",
    "device = \"cpu\"\n",
    "seed = 257\n",
    "torch.manual_seed(seed)\n",
    "torch.cuda.manual_seed_all(seed)\n",
    "np.random.seed(seed)\n",
    "random.seed(seed)\n",
    "agent = Storage.new(ActorCritic, states.shape[1], action_size, states.shape[0], device,  SimpleNoise, \n",
    "                    seed,\n",
    "                    memory_size=int(1e5),\n",
    "                    batch_size=256,\n",
    "                    ACTIVATION = F.relu,\n",
    "                    GRADIENT_CLIP = 5,\n",
    "                    TAU=1e-3,\n",
    "                    UPDATE_EVERY=32,\n",
    "                    TRANSFER_EVERY=1,\n",
    "                    UPDATE_LOOP=16,\n",
    "                    ADD_NOISE_EVERY=1,\n",
    "                    BOOTSTRAP_SIZE=4,\n",
    "                    LR_CRITIC = 3e-4,\n",
    "                    LR_ACTOR = 3e-4,\n",
    "                    MEMORY_RANDOMNESS = 1)"
   ]
  },
  {
   "cell_type": "markdown",
   "metadata": {},
   "source": [
    "### Test save and load"
   ]
  },
  {
   "cell_type": "code",
   "execution_count": 6,
   "metadata": {},
   "outputs": [],
   "source": [
    "Storage.save(\"temp.ckp\", [], agent)\n",
    "loaded, scores = Storage.load(\"temp.ckp\", device, states.shape[0])"
   ]
  },
  {
   "cell_type": "markdown",
   "metadata": {},
   "source": [
    "### Run training"
   ]
  },
  {
   "cell_type": "code",
   "execution_count": null,
   "metadata": {},
   "outputs": [
    {
     "name": "stderr",
     "output_type": "stream",
     "text": [
      "I:\\MyDev\\Anaconda3\\envs\\drlnd\\lib\\site-packages\\torch\\nn\\functional.py:995: UserWarning: nn.functional.tanh is deprecated. Use torch.tanh instead.\n",
      "  warnings.warn(\"nn.functional.tanh is deprecated. Use torch.tanh instead.\")\n"
     ]
    },
    {
     "name": "stdout",
     "output_type": "stream",
     "text": [
      "Episode 50\tAverage Score: 0.130\tMin Score: -0.517\tMax Score: 0.402\tNoise: 0.980\n",
      "Episode 100\tAverage Score: 0.110\tMin Score: -0.306\tMax Score: 0.387\tNoise: 0.961\n",
      "Episode 150\tAverage Score: 0.113\tMin Score: -0.252\tMax Score: 0.387\tNoise: 0.942\n",
      "Episode 200\tAverage Score: 0.130\tMin Score: -0.178\tMax Score: 0.535\tNoise: 0.923\n",
      "Episode 250\tAverage Score: 0.136\tMin Score: -0.459\tMax Score: 0.405\tNoise: 0.905\n",
      "Episode 300\tAverage Score: 0.156\tMin Score: -0.159\tMax Score: 0.554\tNoise: 0.887\n",
      "Episode 350\tAverage Score: 0.161\tMin Score: -0.192\tMax Score: 0.448\tNoise: 0.869\n",
      "Episode 400\tAverage Score: 0.163\tMin Score: -0.305\tMax Score: 0.699\tNoise: 0.852\n",
      "Episode 450\tAverage Score: 0.167\tMin Score: -0.073\tMax Score: 0.431\tNoise: 0.835\n",
      "Episode 500\tAverage Score: 0.200\tMin Score: -0.093\tMax Score: 0.604\tNoise: 0.819\n",
      "Episode 550\tAverage Score: 0.237\tMin Score: -0.058\tMax Score: 0.685\tNoise: 0.802\n",
      "Episode 600\tAverage Score: 0.238\tMin Score: -0.115\tMax Score: 0.546\tNoise: 0.787\n",
      "Episode 650\tAverage Score: 0.234\tMin Score: -0.264\tMax Score: 0.521\tNoise: 0.771\n",
      "Episode 700\tAverage Score: 0.231\tMin Score: -0.111\tMax Score: 0.643\tNoise: 0.756\n",
      "Episode 750\tAverage Score: 0.469\tMin Score: 0.040\tMax Score: 4.892\tNoise: 0.741\n",
      "Episode 800\tAverage Score: 0.808\tMin Score: -1.261\tMax Score: 4.155\tNoise: 0.726\n",
      "Episode 850\tAverage Score: 0.992\tMin Score: 0.149\tMax Score: 3.387\tNoise: 0.712\n",
      "Episode 900\tAverage Score: 1.071\tMin Score: 0.195\tMax Score: 4.257\tNoise: 0.698\n",
      "Episode 950\tAverage Score: 0.873\tMin Score: 0.126\tMax Score: 4.302\tNoise: 0.684\n",
      "Episode 1000\tAverage Score: 0.849\tMin Score: 0.177\tMax Score: 4.531\tNoise: 0.670\n",
      "Episode 1050\tAverage Score: 1.093\tMin Score: 0.390\tMax Score: 5.439\tNoise: 0.657\n",
      "Episode 1100\tAverage Score: 1.174\tMin Score: 0.220\tMax Score: 3.545\tNoise: 0.644\n",
      "Episode 1150\tAverage Score: 1.200\tMin Score: 0.222\tMax Score: 5.154\tNoise: 0.631\n",
      "Episode 1200\tAverage Score: 1.168\tMin Score: 0.367\tMax Score: 4.700\tNoise: 0.619\n",
      "Episode 1250\tAverage Score: 1.177\tMin Score: 0.368\tMax Score: 5.434\tNoise: 0.606\n",
      "Episode 1300\tAverage Score: 1.385\tMin Score: 0.364\tMax Score: 4.578\tNoise: 0.594\n",
      "Episode 1350\tAverage Score: 1.071\tMin Score: 0.182\tMax Score: 3.429\tNoise: 0.583\n",
      "Episode 1400\tAverage Score: 0.606\tMin Score: -0.211\tMax Score: 2.074\tNoise: 0.571\n",
      "Episode 1450\tAverage Score: 0.624\tMin Score: 0.208\tMax Score: 1.385\tNoise: 0.560\n"
     ]
    }
   ],
   "source": [
    "scores = train(loaded, scores, n_episodes=60000, noise = 1, noise_reduction = 0.9996, train_mode=True)\n",
    "plot_result(scores)"
   ]
  },
  {
   "cell_type": "code",
   "execution_count": null,
   "metadata": {},
   "outputs": [],
   "source": [
    "loaded, scores = Storage.load(\"weights/MADDPG/eps_900_avg_2.0775860086781903.pth\", device, states.shape[0])\n",
    "scores = train(loaded, n_episodes=60000, noise = 1, noise_reduction = 0.9996, train_mode=True)\n",
    "plot_result(scores)"
   ]
  },
  {
   "cell_type": "markdown",
   "metadata": {},
   "source": [
    "## Continue the training with small noise"
   ]
  },
  {
   "cell_type": "code",
   "execution_count": null,
   "metadata": {},
   "outputs": [],
   "source": [
    "scores = train(agent, scores, n_episodes=2000, noise = 0.01, noise_reduction = 0.9996, train_mode=True)\n",
    "plot_result(scores)"
   ]
  },
  {
   "cell_type": "markdown",
   "metadata": {},
   "source": [
    "## View the trained agent"
   ]
  },
  {
   "cell_type": "code",
   "execution_count": null,
   "metadata": {},
   "outputs": [],
   "source": [
    "from agents.model import ActorCritic\n",
    "import torch.nn.functional as F\n",
    "device = \"cpu\"\n",
    "network = ActorCritic(state_size, action_size, state_size * 2 , F.leaky_relu ).to(device)\n",
    "network.eval()\n",
    "network.load_state_dict(torch.load(\"./final_weights/final_maddpg_local.pth\"))\n",
    "env_info = env.reset(train_mode=False)[brain_name]\n",
    "\n",
    "def act(network, states, device):\n",
    "    states = torch.from_numpy(states).float().unsqueeze(0).to(device)\n",
    "    ret = network(states).squeeze().cpu().data.numpy()\n",
    "    return ret\n",
    "\n",
    "for i in range(5):\n",
    "    while True:\n",
    "        actions = act(network, states, device)\n",
    "        env_info = env.step(np.clip(actions, -1, 1))[brain_name]  # send all actions to the environment\n",
    "        states = env_info.vector_observations                     # get next state (for each agent)\n",
    "        dones = env_info.local_done                               # see if episode finished\n",
    "        if np.any(dones):                                         # exit loop if episode finished\n",
    "            break"
   ]
  },
  {
   "cell_type": "markdown",
   "metadata": {},
   "source": [
    "1. https://towardsdatascience.com/soft-actor-critic-demystified-b8427df61665\n",
    "1. https://ai.googleblog.com/2019/01/soft-actor-critic-deep-reinforcement.html"
   ]
  },
  {
   "cell_type": "code",
   "execution_count": null,
   "metadata": {},
   "outputs": [],
   "source": []
  }
 ],
 "metadata": {
  "kernelspec": {
   "display_name": "drlnd",
   "language": "python",
   "name": "drlnd"
  },
  "language_info": {
   "codemirror_mode": {
    "name": "ipython",
    "version": 3
   },
   "file_extension": ".py",
   "mimetype": "text/x-python",
   "name": "python",
   "nbconvert_exporter": "python",
   "pygments_lexer": "ipython3",
   "version": "3.6.6"
  }
 },
 "nbformat": 4,
 "nbformat_minor": 2
}
